{
  "nbformat": 4,
  "nbformat_minor": 0,
  "metadata": {
    "colab": {
      "provenance": [],
      "authorship_tag": "ABX9TyOrLfCpNGCXPAthoiEgLDZn",
      "include_colab_link": true
    },
    "kernelspec": {
      "name": "python3",
      "display_name": "Python 3"
    },
    "language_info": {
      "name": "python"
    }
  },
  "cells": [
    {
      "cell_type": "markdown",
      "metadata": {
        "id": "view-in-github",
        "colab_type": "text"
      },
      "source": [
        "<a href=\"https://colab.research.google.com/github/Tooba-Af/-Customer-Segmentation-Using-RFM-Analysis-/blob/main/Customer_Segmentation_Using_RFM_Analysis_.ipynb\" target=\"_parent\"><img src=\"https://colab.research.google.com/assets/colab-badge.svg\" alt=\"Open In Colab\"/></a>"
      ]
    },
    {
      "cell_type": "code",
      "execution_count": 16,
      "metadata": {
        "colab": {
          "base_uri": "https://localhost:8080/"
        },
        "id": "NaIJ-kz5ZD-Z",
        "outputId": "1144a7a6-2bdd-48ba-bab9-c9e827f0d87f"
      },
      "outputs": [
        {
          "output_type": "stream",
          "name": "stdout",
          "text": [
            "  InvoiceNo StockCode                          Description  Quantity  \\\n",
            "0    536365    85123A   WHITE HANGING HEART T-LIGHT HOLDER         6   \n",
            "1    536365     71053                  WHITE METAL LANTERN         6   \n",
            "2    536365    84406B       CREAM CUPID HEARTS COAT HANGER         8   \n",
            "3    536365    84029G  KNITTED UNION FLAG HOT WATER BOTTLE         6   \n",
            "4    536365    84029E       RED WOOLLY HOTTIE WHITE HEART.         6   \n",
            "\n",
            "          InvoiceDate  UnitPrice  CustomerID         Country  \n",
            "0 2010-12-01 08:26:00       2.55     17850.0  United Kingdom  \n",
            "1 2010-12-01 08:26:00       3.39     17850.0  United Kingdom  \n",
            "2 2010-12-01 08:26:00       2.75     17850.0  United Kingdom  \n",
            "3 2010-12-01 08:26:00       3.39     17850.0  United Kingdom  \n",
            "4 2010-12-01 08:26:00       3.39     17850.0  United Kingdom  \n",
            "<class 'pandas.core.frame.DataFrame'>\n",
            "RangeIndex: 541909 entries, 0 to 541908\n",
            "Data columns (total 8 columns):\n",
            " #   Column       Non-Null Count   Dtype         \n",
            "---  ------       --------------   -----         \n",
            " 0   InvoiceNo    541909 non-null  object        \n",
            " 1   StockCode    541909 non-null  object        \n",
            " 2   Description  540455 non-null  object        \n",
            " 3   Quantity     541909 non-null  int64         \n",
            " 4   InvoiceDate  541909 non-null  datetime64[ns]\n",
            " 5   UnitPrice    541909 non-null  float64       \n",
            " 6   CustomerID   406829 non-null  float64       \n",
            " 7   Country      541909 non-null  object        \n",
            "dtypes: datetime64[ns](1), float64(2), int64(1), object(4)\n",
            "memory usage: 33.1+ MB\n",
            "None\n"
          ]
        }
      ],
      "source": [
        "import pandas as pd\n",
        "\n",
        "# Load Excel (UCI dataset is Excel format)\n",
        "df = pd.read_excel(\"/content/Online Retail.xlsx\")\n",
        "\n",
        "# Quick check\n",
        "print(df.head())\n",
        "print(df.info())"
      ]
    },
    {
      "cell_type": "code",
      "source": [
        "# Step 2: Data cleaning\n",
        "df = df[df['CustomerID'].notnull()]      # Remove rows with no CustomerID\n",
        "df = df[df['Quantity'] > 0]              # Remove cancelled/negative orders\n",
        "df['TotalPrice'] = df['Quantity'] * df['UnitPrice']"
      ],
      "metadata": {
        "id": "ryFRVJ4vmqG-"
      },
      "execution_count": 17,
      "outputs": []
    },
    {
      "cell_type": "code",
      "source": [
        "# Step 3: Convert InvoiceDate to datetime\n",
        "df['InvoiceDate'] = pd.to_datetime(df['InvoiceDate'])"
      ],
      "metadata": {
        "id": "zcfCiNoYZMK_"
      },
      "execution_count": 18,
      "outputs": []
    },
    {
      "cell_type": "code",
      "source": [
        "# Step 4: Snapshot date (1 day after last transaction)\n",
        "snapshot_date = df['InvoiceDate'].max() + pd.Timedelta(days=1)\n"
      ],
      "metadata": {
        "id": "fiYu75RVZMEf"
      },
      "execution_count": 19,
      "outputs": []
    },
    {
      "cell_type": "code",
      "source": [
        "# Step 5: Calculate RFM metrics\n",
        "rfm = df.groupby('CustomerID').agg({\n",
        "    'InvoiceDate': lambda x: (snapshot_date - x.max()).days, # Recency\n",
        "    'InvoiceNo': 'count',                                   # Frequency\n",
        "    'TotalPrice': 'sum'                                     # Monetary\n",
        "})"
      ],
      "metadata": {
        "id": "Ot8YT5g2ZMAn"
      },
      "execution_count": 20,
      "outputs": []
    },
    {
      "cell_type": "code",
      "source": [
        "# Rename columns\n",
        "rfm.rename(columns={\n",
        "    'InvoiceDate': 'Recency',\n",
        "    'InvoiceNo': 'Frequency',\n",
        "    'TotalPrice': 'Monetary'\n",
        "}, inplace=True)\n"
      ],
      "metadata": {
        "id": "Zy88SyPGZL9R"
      },
      "execution_count": 21,
      "outputs": []
    },
    {
      "cell_type": "code",
      "source": [
        "# Step 6: Create RFM scores\n",
        "rfm['R_Score'] = pd.qcut(rfm['Recency'], 5, labels=[5,4,3,2,1])\n",
        "rfm['F_Score'] = pd.qcut(rfm['Frequency'], 5, labels=[1,2,3,4,5])\n",
        "rfm['M_Score'] = pd.qcut(rfm['Monetary'], 5, labels=[1,2,3,4,5])\n"
      ],
      "metadata": {
        "id": "ig5kDkqDZL5r"
      },
      "execution_count": 22,
      "outputs": []
    },
    {
      "cell_type": "code",
      "source": [
        "# Combine scores\n",
        "rfm['RFM_Segment'] = rfm['R_Score'].astype(str) + rfm['F_Score'].astype(str) + rfm['M_Score'].astype(str)\n",
        "rfm['RFM_Score'] = rfm[['R_Score','F_Score','M_Score']].astype(int).sum(axis=1)\n"
      ],
      "metadata": {
        "id": "8mpzCggbnCLS"
      },
      "execution_count": 23,
      "outputs": []
    },
    {
      "cell_type": "code",
      "source": [
        "# Step 7: Define customer segments\n",
        "def segment_customer(row):\n",
        "    if row['RFM_Score'] >= 12:\n",
        "        return 'Champions'\n",
        "    elif row['RFM_Score'] >= 9:\n",
        "        return 'Loyal'\n",
        "    elif row['RFM_Score'] >= 6:\n",
        "        return 'Potential'\n",
        "    else:\n",
        "        return 'At Risk'\n",
        "\n",
        "rfm['Segment'] = rfm.apply(segment_customer, axis=1)\n"
      ],
      "metadata": {
        "id": "Y69zXK6-nCHx"
      },
      "execution_count": 24,
      "outputs": []
    },
    {
      "cell_type": "code",
      "source": [
        "# Step 8: Output\n",
        "print(rfm.head())\n",
        "print(rfm['Segment'].value_counts())\n"
      ],
      "metadata": {
        "colab": {
          "base_uri": "https://localhost:8080/"
        },
        "id": "QTUJ47lZnCD2",
        "outputId": "545e857c-e832-4c61-9471-b4e8c050f27e"
      },
      "execution_count": 25,
      "outputs": [
        {
          "output_type": "stream",
          "name": "stdout",
          "text": [
            "            Recency  Frequency  Monetary R_Score F_Score M_Score RFM_Segment  \\\n",
            "CustomerID                                                                     \n",
            "12346.0         326          1  77183.60       1       1       5         115   \n",
            "12347.0           2        182   4310.00       5       5       5         555   \n",
            "12348.0          75         31   1797.24       2       3       4         234   \n",
            "12349.0          19         73   1757.55       4       4       4         444   \n",
            "12350.0         310         17    334.40       1       2       2         122   \n",
            "\n",
            "            RFM_Score    Segment  \n",
            "CustomerID                        \n",
            "12346.0             7  Potential  \n",
            "12347.0            15  Champions  \n",
            "12348.0             9      Loyal  \n",
            "12349.0            12  Champions  \n",
            "12350.0             5    At Risk  \n",
            "Segment\n",
            "Champions    1267\n",
            "Potential    1134\n",
            "Loyal        1037\n",
            "At Risk       901\n",
            "Name: count, dtype: int64\n"
          ]
        }
      ]
    },
    {
      "cell_type": "code",
      "source": [
        "# Step 9: Visualization\n",
        "import matplotlib.pyplot as plt\n",
        "import seaborn as sns\n",
        "\n",
        "plt.figure(figsize=(8,5))\n",
        "sns.countplot(x='Segment', data=rfm, order=rfm['Segment'].value_counts().index)\n",
        "plt.title(\"Customer Segments (RFM Analysis)\")\n",
        "plt.xlabel(\"Segment\")\n",
        "plt.ylabel(\"Number of Customers\")\n",
        "plt.show()"
      ],
      "metadata": {
        "colab": {
          "base_uri": "https://localhost:8080/",
          "height": 487
        },
        "id": "jaZoBTkinCAR",
        "outputId": "63754d1a-2fd8-4a2b-bffc-81ff31b5016d"
      },
      "execution_count": 26,
      "outputs": [
        {
          "output_type": "display_data",
          "data": {
            "text/plain": [
              "<Figure size 800x500 with 1 Axes>"
            ],
            "image/png": "[encoded data removed]"
          },
          "metadata": {}
        }
      ]
    },
    {
      "cell_type": "code",
      "source": [],
      "metadata": {
        "id": "g5EA1uS9nB8A"
      },
      "execution_count": 26,
      "outputs": []
    }
  ]
}